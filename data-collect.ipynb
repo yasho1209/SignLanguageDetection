{
 "cells": [
  {
   "cell_type": "code",
   "execution_count": null,
   "metadata": {},
   "outputs": [],
   "source": [
    "%pip install mediapipe"
   ]
  },
  {
   "cell_type": "code",
   "execution_count": null,
   "metadata": {},
   "outputs": [],
   "source": [
    "import cv2\n",
    "import numpy as np\n",
    "import os\n",
    "import matplotlib.pyplot as plt\n",
    "import time\n",
    "import mediapipe as mp"
   ]
  },
  {
   "cell_type": "code",
   "execution_count": null,
   "metadata": {},
   "outputs": [],
   "source": [
    "mp_holistic = mp.solutions.holistic  # This is bringing in the holistic model (used to make detections)\n",
    "mp_drawing = mp.solutions.drawing_utils # This is bringing in the drawing utilities (used for drawing the detection)"
   ]
  },
  {
   "cell_type": "code",
   "execution_count": null,
   "metadata": {},
   "outputs": [],
   "source": [
    "DATA_PATH = os.path.join('D:\\SignLanguageData', 'MP_Data2')\n",
    "VIDEO_PATH = os.path.join(DATA_PATH, 'Videos')\n",
    "action = 'hello'"
   ]
  },
  {
   "cell_type": "code",
   "execution_count": null,
   "metadata": {},
   "outputs": [],
   "source": [
    "# Define the video codec and output file name\n",
    "fourcc = cv2.VideoWriter_fourcc(*'mp4v')\n",
    "output_file = os.path.join(VIDEO_PATH, action ,'output.mp4')\n",
    "\n",
    "# Get the webcam input\n",
    "avi_cap = cv2.VideoCapture(0)\n",
    "\n",
    "# Get the video properties from the webcam input\n",
    "frame_width = int(avi_cap.get(cv2.CAP_PROP_FRAME_WIDTH))\n",
    "frame_height = int(avi_cap.get(cv2.CAP_PROP_FRAME_HEIGHT))\n",
    "fps = int(avi_cap.get(cv2.CAP_PROP_FPS))\n",
    "\n",
    "# Calculate the number of frames to record for 1 minute\n",
    "duration = 60  # 1 minute\n",
    "num_frames = duration * fps\n",
    "\n",
    "# Create a VideoWriter object to save the video\n",
    "avi_out = cv2.VideoWriter(output_file, fourcc, fps, (frame_width, frame_height))\n",
    "\n",
    "# Start recording\n",
    "start_time = time.time()\n",
    "frame_count = 0\n",
    "\n",
    "while frame_count < num_frames:\n",
    "    # Read a frame from the webcam\n",
    "    ret, frame = avi_cap.read()\n",
    "\n",
    "    # Break the loop if the video capture is unsuccessful\n",
    "    if not ret:\n",
    "        break\n",
    "\n",
    "    # Write the frame to the output file\n",
    "    avi_out.write(frame)\n",
    "\n",
    "    # Display the frame\n",
    "    cv2.imshow('Webcam Recording', frame)\n",
    "\n",
    "    # Increment the frame count\n",
    "    frame_count += 1\n",
    "\n",
    "    # Break the loop if the 'q' key is pressed\n",
    "    if cv2.waitKey(1) & 0xFF == ord('q'):\n",
    "        break\n",
    "\n",
    "    # Break the loop if the duration has exceeded 1 minute\n",
    "    if time.time() - start_time > duration:\n",
    "        break\n",
    "\n",
    "# Release the resources\n",
    "avi_cap.release()\n",
    "avi_out.release()\n",
    "cv2.destroyAllWindows()\n"
   ]
  },
  {
   "cell_type": "code",
   "execution_count": null,
   "metadata": {},
   "outputs": [],
   "source": [
    "avi_cap.release()"
   ]
  },
  {
   "cell_type": "code",
   "execution_count": null,
   "metadata": {},
   "outputs": [],
   "source": [
    "def mediapipe_detection(image, model):\n",
    "    image = cv2.cvtColor(image, cv2.COLOR_BGR2RGB) # color conversion\n",
    "    image.flags.writeable = False       # image writable status is false \n",
    "    results = model.process(image)      # image is the frame from OpenCV, make predictions\n",
    "    image.flags.writeable = True        # image writeable status is true\n",
    "    image = cv2.cvtColor(image, cv2.COLOR_RGB2BGR) # color conversion back to BGR\n",
    "    return image, results"
   ]
  },
  {
   "cell_type": "code",
   "execution_count": null,
   "metadata": {},
   "outputs": [],
   "source": [
    "def draw_styled_landmarks(image, results):\n",
    "    # draw pose landmarks \n",
    "    \n",
    "    # draw left hand landmarks\n",
    "    mp_drawing.draw_landmarks(image, results.left_hand_landmarks, mp_holistic.HAND_CONNECTIONS,\n",
    "                              mp_drawing.DrawingSpec(color=(121,22,76), thickness=2, circle_radius=4), # color landmarks\n",
    "                              mp_drawing.DrawingSpec(color=(121,44,250), thickness=2, circle_radius=2)) # color dots \n",
    "    \n",
    "    # draw right hand landmarks\n",
    "    mp_drawing.draw_landmarks(image, results.right_hand_landmarks, mp_holistic.HAND_CONNECTIONS,\n",
    "                              mp_drawing.DrawingSpec(color=(245,117,66), thickness=2, circle_radius=4), # color landmarks\n",
    "                              mp_drawing.DrawingSpec(color=(245,66,230), thickness=2, circle_radius=2)) # color dots "
   ]
  },
  {
   "cell_type": "code",
   "execution_count": null,
   "metadata": {},
   "outputs": [],
   "source": [
    "def extract_keypoints(results):\n",
    "    lh = np.array([[res.x, res.y, res.z] for res in results.left_hand_landmarks.landmark]).flatten() if results.left_hand_landmarks else np.zeros(21*3)\n",
    "    rh = np.array([[res.x, res.y, res.z] for res in results.right_hand_landmarks.landmark]).flatten() if results.right_hand_landmarks else np.zeros(21*3)\n",
    "    return np.concatenate([ lh, rh])"
   ]
  },
  {
   "cell_type": "code",
   "execution_count": null,
   "metadata": {},
   "outputs": [],
   "source": []
  },
  {
   "cell_type": "code",
   "execution_count": null,
   "metadata": {},
   "outputs": [],
   "source": [
    "# Get the list of mp4 files in the VIDEO_PATH directory\n",
    "\n",
    "path = os.path.join(VIDEO_PATH, action)\n",
    "# os.remove(path)\n",
    "mp4_files = [file for file in os.listdir(path) if file.endswith('.mp4')]\n",
    "counter = 0\n",
    "# Play each mp4 file\n",
    "for mp4_file in mp4_files:\n",
    "    # Create the full file path\n",
    "    file_path = os.path.join(path, mp4_file)\n",
    "    \n",
    "    # Open the video file\n",
    "    video_cap = cv2.VideoCapture(file_path)\n",
    "    \n",
    "    # Play the video\n",
    "    with mp_holistic.Holistic(min_detection_confidence=0.5, min_tracking_confidence=0.5) as holistic:\n",
    "        os.makedirs(os.path.join(DATA_PATH, action))\n",
    "        while True:\n",
    "            ret, frame = video_cap.read()\n",
    "            if not ret:\n",
    "                break\n",
    "\n",
    "            \n",
    "            \n",
    "            image, results = mediapipe_detection(frame, holistic)\n",
    "            draw_styled_landmarks(frame, results)\n",
    "            cv2.imshow('Video Playback', frame)\n",
    "            keypoints = extract_keypoints(results)\n",
    "            npy_path = os.path.join(DATA_PATH, action , str(counter))\n",
    "            np.save(npy_path, keypoints)\n",
    "            counter+=1\n",
    "            if cv2.waitKey(1) & 0xFF == ord('q'):\n",
    "                break\n",
    "    \n",
    "    # Release the video capture\n",
    "    video_cap.release()\n",
    "    cv2.destroyAllWindows()\n"
   ]
  },
  {
   "cell_type": "code",
   "execution_count": null,
   "metadata": {},
   "outputs": [],
   "source": [
    "with mp_holistic.Holistic(min_detection_confidence=0.5, min_tracking_confidence=0.5) as holistic:\n",
    "    counter=0\n",
    "    # NEW LOOP\n",
    "    # Loop through actions\n",
    "    while True:\n",
    "        # Loop through sequences aka videos\n",
    "        # os.mkdir(f'C://Users//Yuvraj Sahni//Documents//Test//MP_Data//{action}//{counter}')\n",
    "        os.makedirs(os.path.join(DATA_PATH, action, str(counter)))\n",
    "            # Loop through video length aka sequence length\n",
    "        for frame_num in range(sequence_length):\n",
    "\n",
    "                # Read feed\n",
    "            ret, frame = cap.read()\n",
    "\n",
    "                # Make detections\n",
    "            image, results = mediapipe_detection(frame, holistic)\n",
    "\n",
    "                # Draw landmarks\n",
    "            draw_styled_landmarks(image, results)\n",
    "                \n",
    "                # NEW Apply wait logic\n",
    "            if frame_num == 0: \n",
    "                cv2.putText(image, 'STARTING COLLECTION', (120,200), \n",
    "                           cv2.FONT_HERSHEY_SIMPLEX, 1, (0,255, 0), 4, cv2.LINE_AA)\n",
    "                cv2.putText(image, 'Collecting frames for {} Video Number {}'.format(action, counter), (15,12), \n",
    "                               cv2.FONT_HERSHEY_SIMPLEX, 0.5, (0, 0, 255), 1, cv2.LINE_AA)\n",
    "                    # Show to screen\n",
    "                cv2.imshow('OpenCV Feed', image)\n",
    "                cv2.waitKey(2000)\n",
    "            else: \n",
    "                cv2.putText(image, 'Collecting frames for {} Video Number {}'.format(action, counter), (15,12), \n",
    "                               cv2.FONT_HERSHEY_SIMPLEX, 0.5, (0, 0, 255), 1, cv2.LINE_AA)\n",
    "                    # Show to screen\n",
    "                cv2.imshow('OpenCV Feed', image)\n",
    "                \n",
    "                # NEW Export keypoints\n",
    "            keypoints = extract_keypoints(results)\n",
    "            npy_path = os.path.join(DATA_PATH, action , str(counter), str(frame_num))\n",
    "            np.save(npy_path, keypoints)\n",
    "            \n",
    "\n",
    "            #     # Break gracefully\n",
    "            if cv2.waitKey(10) & 0xFF == ord('q'):\n",
    "                break\n",
    "        counter+=1\n",
    "        # if cv2.waitKey(10) & 0xFF == ord('s'):\n",
    "        #     break\n",
    "    cap.release()\n",
    "    cv2.destroyAllWindows()\n",
    "\n",
    "cap.release()\n",
    "cv2.destroyAllWindows()"
   ]
  }
 ],
 "metadata": {
  "kernelspec": {
   "display_name": "tensorflow",
   "language": "python",
   "name": "python3"
  },
  "language_info": {
   "codemirror_mode": {
    "name": "ipython",
    "version": 3
   },
   "file_extension": ".py",
   "mimetype": "text/x-python",
   "name": "python",
   "nbconvert_exporter": "python",
   "pygments_lexer": "ipython3",
   "version": "3.9.12"
  }
 },
 "nbformat": 4,
 "nbformat_minor": 2
}
